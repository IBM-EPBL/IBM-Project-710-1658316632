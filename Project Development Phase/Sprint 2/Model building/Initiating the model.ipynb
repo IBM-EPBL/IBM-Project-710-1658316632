{
 "cells": [
  {
   "cell_type": "markdown",
   "metadata": {
    "id": "nooMsj5bVjge"
   },
   "source": [
    "# Importing the image data generator library"
   ]
  },
  {
   "cell_type": "code",
   "execution_count": 3,
   "metadata": {
    "id": "m7siVT5qUYGP"
   },
   "outputs": [],
   "source": [
    "from tensorflow.keras.preprocessing.image import ImageDataGenerator"
   ]
  },
  {
   "cell_type": "markdown",
   "metadata": {},
   "source": [
    "# Define the parameters or arguments for image data generator class"
   ]
  },
  {
   "cell_type": "code",
   "execution_count": 4,
   "metadata": {
    "id": "otlxqYLHWPgs"
   },
   "outputs": [],
   "source": [
    "# Initializing augmentation for training variable\n",
    "\n",
    "train_datagen = ImageDataGenerator(rescale=1/255,\n",
    "                                   zoom_range=0.2,shear_range=0.2,rotation_range=180,\n",
    "                                   horizontal_flip=True)"
   ]
  },
  {
   "cell_type": "code",
   "execution_count": 5,
   "metadata": {
    "id": "BrGmvE9SXpvU"
   },
   "outputs": [],
   "source": [
    "# Initializing augmentation for testing variable\n",
    "\n",
    "test_datagen = ImageDataGenerator(rescale=1/255)"
   ]
  },
  {
   "cell_type": "markdown",
   "metadata": {},
   "source": [
    "# Applying image data generator functionality to trainset and test set"
   ]
  },
  {
   "cell_type": "code",
   "execution_count": 6,
   "metadata": {
    "colab": {
     "base_uri": "https://localhost:8080/"
    },
    "id": "ZEJbmZkdYD_W",
    "outputId": "8ee452f4-6f50-4b46-9827-e9901a5371c6"
   },
   "outputs": [
    {
     "name": "stdout",
     "output_type": "stream",
     "text": [
      "Found 1520 images belonging to 2 classes.\n"
     ]
    }
   ],
   "source": [
    "# Passing training data for training variable (augmentation)\n",
    "\n",
    "xtrain = train_datagen.flow_from_directory('/content/Forest Fire Dataset/Training',\n",
    "                                           target_size=(150,150),\n",
    "                                           class_mode='binary',\n",
    "                                           batch_size=32)"
   ]
  },
  {
   "cell_type": "code",
   "execution_count": 7,
   "metadata": {
    "colab": {
     "base_uri": "https://localhost:8080/"
    },
    "id": "ErnKIG2UZOEV",
    "outputId": "e1fc9bbe-6cf1-45e0-c66c-27931315c995"
   },
   "outputs": [
    {
     "name": "stdout",
     "output_type": "stream",
     "text": [
      "Found 380 images belonging to 2 classes.\n"
     ]
    }
   ],
   "source": [
    "# Passing testing data for testing variable (augmentation)\n",
    "\n",
    "xtest = test_datagen.flow_from_directory('/content/Forest Fire Dataset/Testing',\n",
    "                                           target_size=(150,150),\n",
    "                                           class_mode='binary',\n",
    "                                           batch_size=32)"
   ]
  },
  {
   "cell_type": "markdown",
   "metadata": {
    "id": "aMaCs9XEaCLv"
   },
   "source": [
    "# Import the model building libraries"
   ]
  },
  {
   "cell_type": "code",
   "execution_count": 2,
   "metadata": {
    "id": "j4e01RYsZ4Dn"
   },
   "outputs": [],
   "source": [
    "from tensorflow.keras.models import Sequential\n",
    "from tensorflow.keras.layers import Convolution2D,MaxPooling2D,Flatten,Dense"
   ]
  },
  {
   "cell_type": "markdown",
   "metadata": {},
   "source": [
    "# Initiating the model"
   ]
  },
  {
   "cell_type": "code",
   "execution_count": 4,
   "metadata": {
    "id": "9MfdAZhDaek-"
   },
   "outputs": [],
   "source": [
    "\n",
    "model = Sequential() "
   ]
  }
 ],
 "metadata": {
  "accelerator": "GPU",
  "colab": {
   "collapsed_sections": [],
   "provenance": []
  },
  "kernelspec": {
   "display_name": "Python 3 (ipykernel)",
   "language": "python",
   "name": "python3"
  },
  "language_info": {
   "codemirror_mode": {
    "name": "ipython",
    "version": 3
   },
   "file_extension": ".py",
   "mimetype": "text/x-python",
   "name": "python",
   "nbconvert_exporter": "python",
   "pygments_lexer": "ipython3",
   "version": "3.8.10"
  }
 },
 "nbformat": 4,
 "nbformat_minor": 1
}
