{
 "cells": [
  {
   "cell_type": "code",
   "execution_count": 2,
   "metadata": {
    "id": "jw52bTc_EVRK"
   },
   "outputs": [],
   "source": [
    "import cv2\n",
    "import numpy as np\n",
    "from tensorflow.keras.preprocessing import image\n",
    "from tensorflow.keras.utils import load_img,img_to_array\n",
    "from tensorflow.keras.models import load_model\n",
    "from PIL import Image\n",
    "from twilio.rest import Client\n",
    "import warnings\n",
    "warnings.filterwarnings('ignore')"
   ]
  },
  {
   "cell_type": "markdown",
   "metadata": {},
   "source": [
    "# Send alert message"
   ]
  },
  {
   "cell_type": "code",
   "execution_count": 3,
   "metadata": {},
   "outputs": [],
   "source": [
    "def send_message():\n",
    "  account_sid = 'AC4c6802dceef3f53e86d8f323381b6e9f' \n",
    "  auth_token = 'c07d05d7550d4902a879db6160b7f39c' \n",
    "  client = Client(account_sid, auth_token) \n",
    " \n",
    "  message = client.messages.create(  \n",
    "                              messaging_service_sid='MG39f0273fc2caf682130af0fe591f15ca', \n",
    "                              body='forest_fire',      \n",
    "                              to='+918925143321' \n",
    "                          ) \n",
    "  print(message.sid)\n",
    "   \n",
    "  print(\"Fire Detected\")\n",
    "  print(\"SMS Sent\")\n"
   ]
  }
 ],
 "metadata": {
  "accelerator": "GPU",
  "colab": {
   "collapsed_sections": [],
   "provenance": []
  },
  "gpuClass": "standard",
  "kernelspec": {
   "display_name": "Python 3 (ipykernel)",
   "language": "python",
   "name": "python3"
  },
  "language_info": {
   "codemirror_mode": {
    "name": "ipython",
    "version": 3
   },
   "file_extension": ".py",
   "mimetype": "text/x-python",
   "name": "python",
   "nbconvert_exporter": "python",
   "pygments_lexer": "ipython3",
   "version": "3.8.10"
  }
 },
 "nbformat": 4,
 "nbformat_minor": 1
}
